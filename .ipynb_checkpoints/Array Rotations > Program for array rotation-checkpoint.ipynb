{
 "cells": [
  {
   "cell_type": "markdown",
   "metadata": {},
   "source": [
    "# Array Rotations > Program for array rotation\n",
    "https://www.geeksforgeeks.org/array-rotation/"
   ]
  },
  {
   "cell_type": "code",
   "execution_count": 79,
   "metadata": {},
   "outputs": [],
   "source": [
    "import array as arr\n",
    "l = [1,2,3,4,5,6]\n",
    "ll = [1, 2, 3, 4, 5, 6, 7, 8, 9, 10, 11, 12]\n",
    "ar = arr.array('i',ll)\n",
    "ar_len = len(ar)"
   ]
  },
  {
   "cell_type": "markdown",
   "metadata": {},
   "source": [
    "## Method 1 : Using temp array\n",
    "-----------------------------------------------------\n",
    "\n",
    "Time complexity : O(array_length) ~ O(n)\n",
    "\n",
    "Auxiliary Space : O(position) ~ O(n)"
   ]
  },
  {
   "cell_type": "code",
   "execution_count": 41,
   "metadata": {},
   "outputs": [
    {
     "name": "stdout",
     "output_type": "stream",
     "text": [
      "array('i', [1, 2, 3])\n",
      "array('i', [4, 5, 6, 1, 2, 3])\n"
     ]
    }
   ],
   "source": [
    "def rotate1(array,array_length,position):\n",
    "    temp=[]\n",
    "    temp_ar = arr.array('i',temp)\n",
    "    for i in range(0,position):\n",
    "        temp_ar.append(ar[i])\n",
    "    \n",
    "    for i in range(0,ar_len-position):\n",
    "        ar[i]=ar[i+position]\n",
    "\n",
    "    for i in range(ar_len-position,ar_len):\n",
    "        ar[i] = temp_ar[i-(ar_len-position)]\n",
    "    \n",
    "    return ar    \n",
    "\n",
    "print(rotate1(ar,ar_len,3))"
   ]
  },
  {
   "cell_type": "markdown",
   "metadata": {},
   "source": [
    "## Method 2 : Rotate one by one\n",
    "\n",
    "To rotate by one, store arr[0] in a temporary variable temp, move arr[1] to arr[0], arr[2] to arr[1] …and finally temp to arr[n-1]\n",
    "\n",
    "-----------------------------------------------------\n",
    "\n",
    "Let us take the same example arr[] = [1, 2, 3, 4, 5, 6, 7], d = 2\n",
    "\n",
    "Rotate arr[] by one 2 times\n",
    "\n",
    "We get [2, 3, 4, 5, 6, 7, 1] after first rotation and [ 3, 4, 5, 6, 7, 1, 2] after second rotation.\n",
    "\n",
    "-----------------------------------------------------\n",
    "\n",
    "Time complexity : O(array_length * position) ~ O(n^2)\n",
    "\n",
    "Auxiliary Space : O(1)"
   ]
  },
  {
   "cell_type": "code",
   "execution_count": 47,
   "metadata": {},
   "outputs": [
    {
     "name": "stdout",
     "output_type": "stream",
     "text": [
      "array('i', [1, 2, 3, 4, 5, 6])\n"
     ]
    }
   ],
   "source": [
    "def rotate2(array,array_length,position):\n",
    "    for i in range(0,position):\n",
    "        temp = ar[0]\n",
    "        for j in range(0,array_length-1):\n",
    "            ar[j] = ar[j+1]\n",
    "        ar[array_length-1] = temp \n",
    "    return ar\n",
    "\n",
    "print(rotate2(ar,ar_len,3))\n"
   ]
  },
  {
   "cell_type": "markdown",
   "metadata": {},
   "source": [
    "## Method 3 : Juggling Algorithm\n",
    "\n",
    "Instead of moving one by one, divide the array in different sets\n",
    "where number of sets is equal to GCD of n and d and move the elements within sets.\n",
    "If GCD is 1 as is for the above example array (n = 7 and d =2), then elements will be moved within one set only, we just start with temp = arr[0] and keep moving arr[I+d] to arr[I] and finally store temp at the right place.\n",
    "\n",
    "-----------------------------------------------------\n",
    "\n",
    "Here is an example for n =12 and d = 3. GCD is 3\n",
    "\n",
    "Let arr[] be {1, 2, 3, 4, 5, 6, 7, 8, 9, 10, 11, 12}\n",
    "\n",
    "a) Elements are first moved in first set\n",
    "          arr[] after this step --> {4 2 3 7 5 6 10 8 9 1 11 12}\n",
    "\n",
    "b)    Then in second set.\n",
    "          arr[] after this step --> {4 5 3 7 8 6 10 11 9 1 2 12}\n",
    "\n",
    "c)    Finally in third set.\n",
    "          arr[] after this step --> {4 5 6 7 8 9 10 11 12 1 2 3}"
   ]
  },
  {
   "cell_type": "code",
   "execution_count": 80,
   "metadata": {},
   "outputs": [
    {
     "name": "stdout",
     "output_type": "stream",
     "text": [
      "array('i', [4, 2, 3, 7, 5, 6, 10, 8, 9, 1, 11, 12])\n",
      "array('i', [4, 5, 3, 7, 8, 6, 10, 11, 9, 1, 2, 12])\n",
      "array('i', [4, 5, 6, 7, 8, 9, 10, 11, 12, 1, 2, 3])\n",
      " \n",
      "array('i', [4, 5, 6, 7, 8, 9, 10, 11, 12, 1, 2, 3])\n"
     ]
    }
   ],
   "source": [
    "# Fuction to get gcd of a and b \n",
    "def gcd(a, b): \n",
    "    if b == 0: \n",
    "        return a; \n",
    "    else: \n",
    "        return gcd(b, a % b) \n",
    "\n",
    "def rotate3(array,array_length,position):\n",
    "    gcd_value = gcd(position, array_length) \n",
    "    \n",
    "    for i in range(0,gcd_value):\n",
    "        temp = ar[i]\n",
    "        \n",
    "        for j in range(0+i,array_length-gcd_value+i,gcd_value):\n",
    "            ar[j] = ar[j+gcd_value]\n",
    "        ar[j+gcd_value] = temp\n",
    "        print(ar)\n",
    "    print(\" \")\n",
    "    return(ar)\n",
    "    \n",
    "print(rotate3(ar,ar_len,3))    "
   ]
  }
 ],
 "metadata": {
  "kernelspec": {
   "display_name": "Python 3",
   "language": "python",
   "name": "python3"
  },
  "language_info": {
   "codemirror_mode": {
    "name": "ipython",
    "version": 3
   },
   "file_extension": ".py",
   "mimetype": "text/x-python",
   "name": "python",
   "nbconvert_exporter": "python",
   "pygments_lexer": "ipython3",
   "version": "3.7.4"
  }
 },
 "nbformat": 4,
 "nbformat_minor": 2
}
