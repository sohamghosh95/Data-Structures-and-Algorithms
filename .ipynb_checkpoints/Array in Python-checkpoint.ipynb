{
 "cells": [
  {
   "cell_type": "markdown",
   "metadata": {},
   "source": [
    "# Arrays in Python\n",
    "https://www.geeksforgeeks.org/array-python-set-1-introduction-functions/"
   ]
  },
  {
   "cell_type": "markdown",
   "metadata": {},
   "source": [
    "Array can be handled in python by module named “array“. They can be useful when we have to manipulate only a specific data type values.\n",
    "\n",
    "#### 1.array(data type, value list) :- This function is used to create an array with data type and value list specified in its arguments."
   ]
  },
  {
   "cell_type": "code",
   "execution_count": 18,
   "metadata": {},
   "outputs": [
    {
     "name": "stdout",
     "output_type": "stream",
     "text": [
      "1\n",
      "2\n",
      "3\n",
      "4\n"
     ]
    }
   ],
   "source": [
    "import array as arr\n",
    "\n",
    "ar = arr.array('i',[1,2,3,4])\n",
    "\n",
    "for item in range(4):\n",
    "    print(ar[item])"
   ]
  },
  {
   "cell_type": "markdown",
   "metadata": {},
   "source": [
    "#### 2.append() :- This function is used to add the value mentioned in its arguments at the end of the array.\n",
    "\n",
    "#### 3.insert(i,x) :- This function is used to add the value at the position specified in its argument."
   ]
  },
  {
   "cell_type": "code",
   "execution_count": 19,
   "metadata": {},
   "outputs": [
    {
     "name": "stdout",
     "output_type": "stream",
     "text": [
      "array('i', [1, 2, 3, 4, 6])\n",
      "array('i', [1, 2, 5, 3, 4, 6])\n"
     ]
    }
   ],
   "source": [
    "# using append() to insert new value at end \n",
    "ar.append(6); \n",
    "\n",
    "print(ar)\n",
    "\n",
    "# using insert() to insert value at specific position \n",
    "# inserts 5 at 2nd position \n",
    "ar.insert(2, 5) \n",
    "\n",
    "print(ar)"
   ]
  },
  {
   "cell_type": "markdown",
   "metadata": {},
   "source": [
    "#### 4.pop() :- This function removes the element at the position mentioned in its argument, and returns it.\n",
    "#### 5.remove() :- This function is used to remove the first occurrence of the value mentioned in its arguments."
   ]
  },
  {
   "cell_type": "code",
   "execution_count": 20,
   "metadata": {},
   "outputs": [
    {
     "name": "stdout",
     "output_type": "stream",
     "text": [
      "5\n",
      "array('i', [1, 2, 3, 4, 6])\n"
     ]
    }
   ],
   "source": [
    "# using pop() to remove element at 2nd position \n",
    "print (ar.pop(2)); \n",
    "print(ar)"
   ]
  },
  {
   "cell_type": "code",
   "execution_count": 21,
   "metadata": {},
   "outputs": [
    {
     "name": "stdout",
     "output_type": "stream",
     "text": [
      "array('i', [2, 3, 4, 6])\n"
     ]
    }
   ],
   "source": [
    "# using remove() to remove 1st occurrence of 1 \n",
    "ar.remove(1) \n",
    "print(ar)"
   ]
  },
  {
   "cell_type": "markdown",
   "metadata": {},
   "source": [
    "#### 6.index() :- This function returns the index of the first occurrence of value mentioned in arguments.\n",
    "#### 7.reverse() :- This function reverses the array."
   ]
  },
  {
   "cell_type": "code",
   "execution_count": 23,
   "metadata": {},
   "outputs": [
    {
     "name": "stdout",
     "output_type": "stream",
     "text": [
      "The index of 1st occurrence of 3 is : 1\n"
     ]
    }
   ],
   "source": [
    "# using index() to print index of 1st occurrenece of 3\n",
    "print (\"The index of 1st occurrence of 3 is : \",end=\"\") \n",
    "print (ar.index(3)) "
   ]
  },
  {
   "cell_type": "code",
   "execution_count": 25,
   "metadata": {},
   "outputs": [
    {
     "name": "stdout",
     "output_type": "stream",
     "text": [
      "array('i', [6, 4, 3, 2])\n"
     ]
    }
   ],
   "source": [
    "#using reverse() to reverse the array \n",
    "ar.reverse() \n",
    "print(ar)"
   ]
  }
 ],
 "metadata": {
  "kernelspec": {
   "display_name": "Python 3",
   "language": "python",
   "name": "python3"
  },
  "language_info": {
   "codemirror_mode": {
    "name": "ipython",
    "version": 3
   },
   "file_extension": ".py",
   "mimetype": "text/x-python",
   "name": "python",
   "nbconvert_exporter": "python",
   "pygments_lexer": "ipython3",
   "version": "3.7.4"
  }
 },
 "nbformat": 4,
 "nbformat_minor": 2
}
