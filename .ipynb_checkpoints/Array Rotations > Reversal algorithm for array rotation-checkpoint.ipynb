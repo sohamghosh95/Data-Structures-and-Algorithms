{
 "cells": [
  {
   "cell_type": "markdown",
   "metadata": {},
   "source": [
    "# Array Rotations > Reversal algorithm for array rotation\n",
    "https://www.geeksforgeeks.org/program-for-array-rotation-continued-reversal-algorithm/"
   ]
  },
  {
   "cell_type": "markdown",
   "metadata": {},
   "source": [
    "## Method 4  : Using Rotate function\n",
    "-----------------------------------------------------\n",
    "\n",
    "Let AB are the two parts of the input array where A = arr[0..d-1] and B = arr[d..n-1]. \n",
    "The idea of the algorithm is :\n",
    "\n",
    "Reverse A to get ArB, where Ar is reverse of A.\n",
    "Reverse B to get ArBr, where Br is reverse of B.\n",
    "Reverse all to get (ArBr) r = BA.\n",
    "\n",
    "Example :\n",
    "Let the array be arr[] = [1, 2, 3, 4, 5, 6, 7], d =2 and n = 7\n",
    "A = [1, 2] and B = [3, 4, 5, 6, 7]\n",
    "\n",
    "Reverse A, we get ArB = [2, 1, 3, 4, 5, 6, 7]\n",
    "Reverse B, we get ArBr = [2, 1, 7, 6, 5, 4, 3]\n",
    "Reverse all, we get (ArBr)r = [3, 4, 5, 6, 7, 1, 2]\n",
    "\n",
    "-----------------------------------------------------\n",
    "\n",
    "Time Complexity : O(n)"
   ]
  },
  {
   "cell_type": "code",
   "execution_count": 6,
   "metadata": {},
   "outputs": [
    {
     "name": "stdout",
     "output_type": "stream",
     "text": [
      "array('i', [3, 4, 5, 6, 7, 8, 1, 2])\n"
     ]
    }
   ],
   "source": [
    "import array as arr\n",
    "l = [1,2,3,4,5,6,7,8]\n",
    "ar = arr.array('i',l)\n",
    "\n",
    "def rotate4(array,array_length,position):\n",
    "    reverse(ar,0,position)\n",
    "    reverse(ar,position,array_length)\n",
    "    reverse(ar,0,array_length)\n",
    "    return ar\n",
    "\n",
    "def reverse(array,array_starting_pos,array_ending_pos):\n",
    "    ptr1 = array_starting_pos\n",
    "    ptr2 = array_ending_pos-1\n",
    "    while(ptr1<=ptr2):\n",
    "        temp = ar[ptr1]\n",
    "        ar[ptr1] = ar[ptr2]\n",
    "        ar[ptr2] = temp\n",
    "        ptr1 += 1\n",
    "        ptr2 -= 1\n",
    "\n",
    "print(rotate4(ar,len(ar),2))     "
   ]
  }
 ],
 "metadata": {
  "kernelspec": {
   "display_name": "Python 3",
   "language": "python",
   "name": "python3"
  },
  "language_info": {
   "codemirror_mode": {
    "name": "ipython",
    "version": 3
   },
   "file_extension": ".py",
   "mimetype": "text/x-python",
   "name": "python",
   "nbconvert_exporter": "python",
   "pygments_lexer": "ipython3",
   "version": "3.7.4"
  }
 },
 "nbformat": 4,
 "nbformat_minor": 2
}
