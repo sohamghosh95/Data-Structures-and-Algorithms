{
 "cells": [
  {
   "cell_type": "markdown",
   "metadata": {},
   "source": [
    "# Array rotation\n",
    "https://www.geeksforgeeks.org/array-rotation/"
   ]
  },
  {
   "cell_type": "code",
   "execution_count": 34,
   "metadata": {},
   "outputs": [],
   "source": [
    "import array as arr\n",
    "l = [1,2,3,4,5,6]\n",
    "ar = arr.array('i',l)\n",
    "ar_len = len(ar) #6"
   ]
  },
  {
   "cell_type": "code",
   "execution_count": 35,
   "metadata": {},
   "outputs": [
    {
     "name": "stdout",
     "output_type": "stream",
     "text": [
      "array('i', [3, 4, 5, 6, 1, 2])\n"
     ]
    }
   ],
   "source": [
    "\n",
    "\n",
    "def rotate1(array,array_length,position):\n",
    "    temp=[]\n",
    "    temp_ar = arr.array('i',temp)\n",
    "    for i in range(0,2):\n",
    "        temp_ar.append(ar[i])\n",
    "    \n",
    "    for i in range(0,ar_len-2):\n",
    "        ar[i]=ar[i+2]\n",
    "\n",
    "    for i in range(ar_len-2,ar_len):\n",
    "        ar[i] = temp_ar[i-(ar_len-2)]\n",
    "    \n",
    "    return ar    \n",
    "\n",
    "print(rotate1(ar,ar_len,2))"
   ]
  },
  {
   "cell_type": "code",
   "execution_count": null,
   "metadata": {},
   "outputs": [],
   "source": []
  }
 ],
 "metadata": {
  "kernelspec": {
   "display_name": "Python 3",
   "language": "python",
   "name": "python3"
  },
  "language_info": {
   "codemirror_mode": {
    "name": "ipython",
    "version": 3
   },
   "file_extension": ".py",
   "mimetype": "text/x-python",
   "name": "python",
   "nbconvert_exporter": "python",
   "pygments_lexer": "ipython3",
   "version": "3.7.4"
  }
 },
 "nbformat": 4,
 "nbformat_minor": 2
}
